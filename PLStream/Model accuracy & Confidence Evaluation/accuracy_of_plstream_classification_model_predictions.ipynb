{
  "cells": [
    {
      "cell_type": "markdown",
      "metadata": {
        "id": "B_C6DJ7yOKs6"
      },
      "source": [
        "**Preliminary Data Exploration**"
      ]
    },
    {
      "cell_type": "markdown",
      "source": [
        "**Context on data used in this notebook**\n",
        "\n",
        "The \"train.csv\" dataset contains tweets with correct sentiment labels. \n",
        "\n",
        "A ground truth value of 1 denoting positive sentiment of a tweet and a value of 0 denoting negative sentiment of a tweet.\n",
        "\n",
        "The dataset also contains tweet sentiment predictions made by the PLStream model."
      ],
      "metadata": {
        "id": "Nh5S8JfRxDQQ"
      }
    },
    {
      "cell_type": "code",
      "execution_count": null,
      "metadata": {
        "colab": {
          "base_uri": "https://localhost:8080/",
          "height": 206
        },
        "id": "hjgXCI0drSjM",
        "outputId": "318bd05a-9f18-4f2c-d2c0-2b2df06344e2"
      },
      "outputs": [
        {
          "output_type": "execute_result",
          "data": {
            "text/plain": [
              "   ground truth                                               text  prediction\n",
              "0             1  Been going to Dr. Goldberg for over 10 years. ...           0\n",
              "1             0  I don't know what Dr. Goldberg was like before...           0\n",
              "2             0  I'm writing this review to give you a heads up...           0\n",
              "3             1  All the food is great here. But the best thing...           1\n",
              "4             0  Wing sauce is like water. Pretty much a lot of...           1"
            ],
            "text/html": [
              "\n",
              "  <div id=\"df-4a1b02bf-edc8-40d0-a258-d447361cf5c1\">\n",
              "    <div class=\"colab-df-container\">\n",
              "      <div>\n",
              "<style scoped>\n",
              "    .dataframe tbody tr th:only-of-type {\n",
              "        vertical-align: middle;\n",
              "    }\n",
              "\n",
              "    .dataframe tbody tr th {\n",
              "        vertical-align: top;\n",
              "    }\n",
              "\n",
              "    .dataframe thead th {\n",
              "        text-align: right;\n",
              "    }\n",
              "</style>\n",
              "<table border=\"1\" class=\"dataframe\">\n",
              "  <thead>\n",
              "    <tr style=\"text-align: right;\">\n",
              "      <th></th>\n",
              "      <th>ground truth</th>\n",
              "      <th>text</th>\n",
              "      <th>prediction</th>\n",
              "    </tr>\n",
              "  </thead>\n",
              "  <tbody>\n",
              "    <tr>\n",
              "      <th>0</th>\n",
              "      <td>1</td>\n",
              "      <td>Been going to Dr. Goldberg for over 10 years. ...</td>\n",
              "      <td>0</td>\n",
              "    </tr>\n",
              "    <tr>\n",
              "      <th>1</th>\n",
              "      <td>0</td>\n",
              "      <td>I don't know what Dr. Goldberg was like before...</td>\n",
              "      <td>0</td>\n",
              "    </tr>\n",
              "    <tr>\n",
              "      <th>2</th>\n",
              "      <td>0</td>\n",
              "      <td>I'm writing this review to give you a heads up...</td>\n",
              "      <td>0</td>\n",
              "    </tr>\n",
              "    <tr>\n",
              "      <th>3</th>\n",
              "      <td>1</td>\n",
              "      <td>All the food is great here. But the best thing...</td>\n",
              "      <td>1</td>\n",
              "    </tr>\n",
              "    <tr>\n",
              "      <th>4</th>\n",
              "      <td>0</td>\n",
              "      <td>Wing sauce is like water. Pretty much a lot of...</td>\n",
              "      <td>1</td>\n",
              "    </tr>\n",
              "  </tbody>\n",
              "</table>\n",
              "</div>\n",
              "      <button class=\"colab-df-convert\" onclick=\"convertToInteractive('df-4a1b02bf-edc8-40d0-a258-d447361cf5c1')\"\n",
              "              title=\"Convert this dataframe to an interactive table.\"\n",
              "              style=\"display:none;\">\n",
              "        \n",
              "  <svg xmlns=\"http://www.w3.org/2000/svg\" height=\"24px\"viewBox=\"0 0 24 24\"\n",
              "       width=\"24px\">\n",
              "    <path d=\"M0 0h24v24H0V0z\" fill=\"none\"/>\n",
              "    <path d=\"M18.56 5.44l.94 2.06.94-2.06 2.06-.94-2.06-.94-.94-2.06-.94 2.06-2.06.94zm-11 1L8.5 8.5l.94-2.06 2.06-.94-2.06-.94L8.5 2.5l-.94 2.06-2.06.94zm10 10l.94 2.06.94-2.06 2.06-.94-2.06-.94-.94-2.06-.94 2.06-2.06.94z\"/><path d=\"M17.41 7.96l-1.37-1.37c-.4-.4-.92-.59-1.43-.59-.52 0-1.04.2-1.43.59L10.3 9.45l-7.72 7.72c-.78.78-.78 2.05 0 2.83L4 21.41c.39.39.9.59 1.41.59.51 0 1.02-.2 1.41-.59l7.78-7.78 2.81-2.81c.8-.78.8-2.07 0-2.86zM5.41 20L4 18.59l7.72-7.72 1.47 1.35L5.41 20z\"/>\n",
              "  </svg>\n",
              "      </button>\n",
              "      \n",
              "  <style>\n",
              "    .colab-df-container {\n",
              "      display:flex;\n",
              "      flex-wrap:wrap;\n",
              "      gap: 12px;\n",
              "    }\n",
              "\n",
              "    .colab-df-convert {\n",
              "      background-color: #E8F0FE;\n",
              "      border: none;\n",
              "      border-radius: 50%;\n",
              "      cursor: pointer;\n",
              "      display: none;\n",
              "      fill: #1967D2;\n",
              "      height: 32px;\n",
              "      padding: 0 0 0 0;\n",
              "      width: 32px;\n",
              "    }\n",
              "\n",
              "    .colab-df-convert:hover {\n",
              "      background-color: #E2EBFA;\n",
              "      box-shadow: 0px 1px 2px rgba(60, 64, 67, 0.3), 0px 1px 3px 1px rgba(60, 64, 67, 0.15);\n",
              "      fill: #174EA6;\n",
              "    }\n",
              "\n",
              "    [theme=dark] .colab-df-convert {\n",
              "      background-color: #3B4455;\n",
              "      fill: #D2E3FC;\n",
              "    }\n",
              "\n",
              "    [theme=dark] .colab-df-convert:hover {\n",
              "      background-color: #434B5C;\n",
              "      box-shadow: 0px 1px 3px 1px rgba(0, 0, 0, 0.15);\n",
              "      filter: drop-shadow(0px 1px 2px rgba(0, 0, 0, 0.3));\n",
              "      fill: #FFFFFF;\n",
              "    }\n",
              "  </style>\n",
              "\n",
              "      <script>\n",
              "        const buttonEl =\n",
              "          document.querySelector('#df-4a1b02bf-edc8-40d0-a258-d447361cf5c1 button.colab-df-convert');\n",
              "        buttonEl.style.display =\n",
              "          google.colab.kernel.accessAllowed ? 'block' : 'none';\n",
              "\n",
              "        async function convertToInteractive(key) {\n",
              "          const element = document.querySelector('#df-4a1b02bf-edc8-40d0-a258-d447361cf5c1');\n",
              "          const dataTable =\n",
              "            await google.colab.kernel.invokeFunction('convertToInteractive',\n",
              "                                                     [key], {});\n",
              "          if (!dataTable) return;\n",
              "\n",
              "          const docLinkHtml = 'Like what you see? Visit the ' +\n",
              "            '<a target=\"_blank\" href=https://colab.research.google.com/notebooks/data_table.ipynb>data table notebook</a>'\n",
              "            + ' to learn more about interactive tables.';\n",
              "          element.innerHTML = '';\n",
              "          dataTable['output_type'] = 'display_data';\n",
              "          await google.colab.output.renderOutput(dataTable, element);\n",
              "          const docLink = document.createElement('div');\n",
              "          docLink.innerHTML = docLinkHtml;\n",
              "          element.appendChild(docLink);\n",
              "        }\n",
              "      </script>\n",
              "    </div>\n",
              "  </div>\n",
              "  "
            ]
          },
          "metadata": {},
          "execution_count": 3
        }
      ],
      "source": [
        "import pandas as pd\n",
        "df = pd.read_csv('train.csv')\n",
        "df.head()"
      ]
    },
    {
      "cell_type": "code",
      "source": [
        "TP_count = len(df[(df['ground truth'] == 1) & (df['prediction'] == 1)])\n",
        "print('Count of True Positives: %.0f' % TP_count)\n",
        "\n",
        "TN_count = len(df[(df['ground truth'] == 0) & (df['prediction'] == 0)])\n",
        "print('Count of True Negatives: %.0f' % TN_count)\n",
        "\n",
        "FP_count = len(df[(df['ground truth'] == 0) & (df['prediction'] == 1)])\n",
        "print('Count of False Positives: %.0f' % FP_count)\n",
        "\n",
        "FN_count = len(df[(df['ground truth'] == 1) & (df['prediction'] == 0)])\n",
        "print('Count of False Negatives: %.0f' % FN_count)"
      ],
      "metadata": {
        "colab": {
          "base_uri": "https://localhost:8080/"
        },
        "id": "qPg_yzWz8f27",
        "outputId": "1b46e173-2074-43ba-938b-e57092c7f154"
      },
      "execution_count": null,
      "outputs": [
        {
          "output_type": "stream",
          "name": "stdout",
          "text": [
            "Count of True Positives: 145213\n",
            "Count of True Negatives: 260081\n",
            "Count of False Positives: 19045\n",
            "Count of False Negatives: 135660\n"
          ]
        }
      ]
    },
    {
      "cell_type": "markdown",
      "source": [
        "**Manually-calculated Confusion Matrix Metrics**"
      ],
      "metadata": {
        "id": "-E-ZK1hBd-IM"
      }
    },
    {
      "cell_type": "markdown",
      "metadata": {
        "id": "5fTdZkwWgSqC"
      },
      "source": [
        "*   ***Accuracy:*** Overall, how often is the classifier correct? (TP+TN)/total\n",
        "    \n",
        "    0.7237406\n",
        "\n",
        "*   ***Misclassification Rate/Error Rate:*** Overall, how often is it wrong?\n",
        "\n",
        "    1 - accuracy = 0.2762594\n",
        "\n",
        "*   ***True Positive Rate/Sensitivity/Recall:*** When it’s actually yes, how often does it predict yes? TP/(actual yes = TP+FN)\n",
        "\n",
        "    0.5170059\n",
        "\n",
        "*   ***False Positive Rate:*** When it’s actually no, how often does it predict yes? FP/(actual no = FP+TN)\n",
        "\n",
        "    0.06823083\n",
        "\n",
        "*   ***True Negative Rate/Specificity:*** When it’s actually no, how often does it predict no? TN/(actual no = FP+TN)\n",
        "\n",
        "    0.9317692\n",
        "\n",
        "*   ***Precision:*** When it predicts yes, how often is it correct? TP/predicted yes\n",
        "\n",
        "    0.8840544\n",
        "\n",
        "*   ***Prevalence:*** How often does the yes condition actually occur in our sample? (actual yes = TP+FN)/total\n",
        "\n",
        "    0.5015598"
      ]
    },
    {
      "cell_type": "markdown",
      "metadata": {
        "id": "NTMgGSV4FHmN"
      },
      "source": [
        "**Random Forests Classifier**"
      ]
    },
    {
      "cell_type": "markdown",
      "metadata": {
        "id": "wbCQPLJSRv-h"
      },
      "source": [
        "We build this model to primarily to draw detailed insights on the performance of the PLStream classification model."
      ]
    },
    {
      "cell_type": "code",
      "execution_count": null,
      "metadata": {
        "colab": {
          "base_uri": "https://localhost:8080/"
        },
        "id": "IEWqWocEDf-K",
        "outputId": "2f4f7968-0bf4-4ae9-ea1f-3e21c5bd346d"
      },
      "outputs": [
        {
          "output_type": "stream",
          "name": "stdout",
          "text": [
            "(559999, 1) (559999,)\n",
            "(391999, 1) (168000, 1) (391999,) (168000,)\n",
            "Accuracy: 0.725\n"
          ]
        }
      ],
      "source": [
        "from sklearn.model_selection import train_test_split\n",
        "\n",
        "X = df.iloc[:, 0:1]\n",
        "y = df.iloc[:, 2]\n",
        "print(X.shape, y.shape)\n",
        "\n",
        "# split into train test sets\n",
        "X_train, X_test, y_train, y_test = train_test_split(X, y, test_size = 0.3)\n",
        "print(X_train.shape, X_test.shape, y_train.shape, y_test.shape)\n",
        "\n",
        "from sklearn.ensemble import RandomForestClassifier\n",
        "\n",
        "# fit the model\n",
        "model = RandomForestClassifier(random_state=1)\n",
        "model.fit(X_train, y_train)\n",
        "\n",
        "# make predictions\n",
        "yhat = model.predict(X_test)\n",
        "# evaluate predictions\n",
        "from sklearn.metrics import accuracy_score\n",
        "acc = accuracy_score(y_test, yhat)\n",
        "print('Accuracy: %.3f' % acc)"
      ]
    },
    {
      "cell_type": "markdown",
      "source": [
        "The PLStream model accuracy given by Random Forests is consistent with the results derived from our manually-calculated Confusion Matrix metrics."
      ],
      "metadata": {
        "id": "wRMZZeNkdeza"
      }
    },
    {
      "cell_type": "markdown",
      "metadata": {
        "id": "7csPBZ_cF0Jv"
      },
      "source": [
        "**Confusion Matrix as calculated by Random Forests**"
      ]
    },
    {
      "cell_type": "code",
      "execution_count": null,
      "metadata": {
        "id": "D9gFEW0oF3ox",
        "colab": {
          "base_uri": "https://localhost:8080/"
        },
        "outputId": "1649295d-ef9e-4056-c542-406475ab6170"
      },
      "outputs": [
        {
          "output_type": "stream",
          "name": "stdout",
          "text": [
            "[[77892 40527]\n",
            " [ 5696 43885]]\n"
          ]
        }
      ],
      "source": [
        "from sklearn.metrics import confusion_matrix\n",
        "CM = confusion_matrix(y_test, yhat)\n",
        "print(CM)"
      ]
    },
    {
      "cell_type": "markdown",
      "metadata": {
        "id": "mLwViG9gGB_u"
      },
      "source": [
        "**Accuracy of PLStream sentiment classification mode**"
      ]
    },
    {
      "cell_type": "code",
      "execution_count": null,
      "metadata": {
        "id": "2HJcn1WLF6r2",
        "colab": {
          "base_uri": "https://localhost:8080/"
        },
        "outputId": "e2d25654-7eb9-4707-f3ca-88bce1811f26"
      },
      "outputs": [
        {
          "output_type": "stream",
          "name": "stdout",
          "text": [
            "              precision    recall  f1-score   support\n",
            "\n",
            "           0       0.93      0.66      0.77    118419\n",
            "           1       0.52      0.89      0.66     49581\n",
            "\n",
            "    accuracy                           0.72    168000\n",
            "   macro avg       0.73      0.77      0.71    168000\n",
            "weighted avg       0.81      0.72      0.74    168000\n",
            "\n"
          ]
        }
      ],
      "source": [
        "from sklearn.metrics import classification_report\n",
        "print(classification_report(y_test, yhat))"
      ]
    },
    {
      "cell_type": "markdown",
      "metadata": {
        "id": "SmEbY3SLG9WT"
      },
      "source": [
        "**Detection of binary class imbalance**"
      ]
    },
    {
      "cell_type": "code",
      "execution_count": null,
      "metadata": {
        "id": "SKI2Ob8rG7hA",
        "colab": {
          "base_uri": "https://localhost:8080/"
        },
        "outputId": "d57cbcac-5a06-48e0-dbef-6a567519c268"
      },
      "outputs": [
        {
          "output_type": "stream",
          "name": "stdout",
          "text": [
            "Count of actual positives: 280873\n",
            "Count of actual negatives: 279126\n",
            "Count of predicted positives: 164258\n",
            "Count of predicted negatives: 395741\n"
          ]
        }
      ],
      "source": [
        "actual_positives_count = len(df[(df['ground truth'] == 1)])\n",
        "print('Count of actual positives: %.0f' % actual_positives_count)\n",
        "\n",
        "actual_negatives_count = len(df[(df['ground truth'] == 0)])\n",
        "print('Count of actual negatives: %.0f' % actual_negatives_count)\n",
        "\n",
        "predicted_positives_count = len(df[(df['prediction'] == 1)])\n",
        "print('Count of predicted positives: %.0f' % predicted_positives_count)\n",
        "\n",
        "predicted_negatives_count = len(df[(df['prediction'] == 0)])\n",
        "print('Count of predicted negatives: %.0f' % predicted_negatives_count)"
      ]
    },
    {
      "cell_type": "markdown",
      "metadata": {
        "id": "Ron5FkK3HZ82"
      },
      "source": [
        "We find a binary class imbalance in our labelled train data as the number of true positive tweets is a lot larger than the number of true negative tweets.\n",
        "\n",
        "Accuracy is not a great measure of model performance when the classes are imbalanced. \n",
        "\n",
        "So, to avoid inaccurate conclusions on model accuracy, we fix the binary class imbalance."
      ]
    },
    {
      "cell_type": "markdown",
      "metadata": {
        "id": "RU3hUNAjHvCR"
      },
      "source": [
        "**Fixing binary class imbalance**"
      ]
    },
    {
      "cell_type": "code",
      "source": [
        "df_pd0 = df[df['ground truth'] == 0]\n",
        "df_pd1 = df[df['ground truth'] == 1]\n",
        "\n",
        "#undersampling df_pd1,\n",
        "import random\n",
        "random.seed(100)\n",
        "df_pd1_under = df_pd1.sample(actual_negatives_count)\n",
        "new_df = pd.concat([df_pd0, df_pd1_under], axis = 0)\n",
        "print(new_df.head())\n",
        "\n",
        "print('Random under-sampling:')\n",
        "print(new_df['ground truth'].value_counts())"
      ],
      "metadata": {
        "colab": {
          "base_uri": "https://localhost:8080/"
        },
        "id": "ituGw9jplu5d",
        "outputId": "5884902b-0416-4e91-c525-81611ea64355"
      },
      "execution_count": null,
      "outputs": [
        {
          "output_type": "stream",
          "name": "stdout",
          "text": [
            "   ground truth                                               text  prediction\n",
            "1             0  I don't know what Dr. Goldberg was like before...           0\n",
            "2             0  I'm writing this review to give you a heads up...           0\n",
            "4             0  Wing sauce is like water. Pretty much a lot of...           1\n",
            "5             0  Owning a driving range inside the city limits ...           0\n",
            "6             0  This place is absolute garbage...  Half of the...           1\n",
            "Random under-sampling:\n",
            "0    279126\n",
            "1    279126\n",
            "Name: ground truth, dtype: int64\n"
          ]
        }
      ]
    },
    {
      "cell_type": "markdown",
      "source": [
        "**Training Random Forests on the newly-created data**"
      ],
      "metadata": {
        "id": "a9B2IChUu8Bt"
      }
    },
    {
      "cell_type": "code",
      "execution_count": null,
      "metadata": {
        "id": "8-ch2nZoH87d",
        "colab": {
          "base_uri": "https://localhost:8080/"
        },
        "outputId": "34742467-a770-490b-9e8f-b61118528383"
      },
      "outputs": [
        {
          "output_type": "stream",
          "name": "stdout",
          "text": [
            "(390776, 1) (167476, 1) (390776,) (167476,)\n",
            "New Accuracy: 0.725\n"
          ]
        }
      ],
      "source": [
        "import pandas_datareader\n",
        "from pandas_datareader import data\n",
        "\n",
        "new_X = new_df.iloc[:, 0:1]\n",
        "new_y = new_df.iloc[:, 2]\n",
        "\n",
        "from sklearn.model_selection import train_test_split\n",
        "new_X_train, new_X_test, new_y_train, new_y_test = train_test_split(new_X, new_y, test_size = 0.3)\n",
        "\n",
        "print(new_X_train.shape, new_X_test.shape, new_y_train.shape, new_y_test.shape)\n",
        "\n",
        "from sklearn.ensemble import RandomForestClassifier\n",
        "\n",
        "#fit the model\n",
        "new_model = RandomForestClassifier()\n",
        "new_model.fit(new_X_train, new_y_train)\n",
        "\n",
        "# make predictions\n",
        "new_yhat = new_model.predict(new_X_test)\n",
        "# evaluate predictions\n",
        "from sklearn.metrics import accuracy_score\n",
        "new_acc = accuracy_score(new_y_test, new_yhat)\n",
        "print('New Accuracy: %.3f' % new_acc)"
      ]
    },
    {
      "cell_type": "markdown",
      "metadata": {
        "id": "M8lUdzGdIC72"
      },
      "source": [
        "Even after data resampling, we observe that the accuracy of the model is unchanged. "
      ]
    },
    {
      "cell_type": "code",
      "execution_count": null,
      "metadata": {
        "id": "5B9n7uQ-I1Rm",
        "colab": {
          "base_uri": "https://localhost:8080/"
        },
        "outputId": "0be555f5-766b-428a-a09a-14219418b5e8"
      },
      "outputs": [
        {
          "output_type": "stream",
          "name": "stdout",
          "text": [
            "[[78121 40372]\n",
            " [ 5699 43284]]\n"
          ]
        }
      ],
      "source": [
        "from sklearn.metrics import confusion_matrix\n",
        "new_CM = confusion_matrix(new_y_test, new_yhat)\n",
        "print(new_CM)"
      ]
    },
    {
      "cell_type": "code",
      "execution_count": null,
      "metadata": {
        "id": "j2odXdCUI4Kb",
        "colab": {
          "base_uri": "https://localhost:8080/"
        },
        "outputId": "bbd2a2f7-b4b1-40f9-e976-2db45e937cfb"
      },
      "outputs": [
        {
          "output_type": "stream",
          "name": "stdout",
          "text": [
            "              precision    recall  f1-score   support\n",
            "\n",
            "           0       0.93      0.66      0.77    118493\n",
            "           1       0.52      0.88      0.65     48983\n",
            "\n",
            "    accuracy                           0.72    167476\n",
            "   macro avg       0.72      0.77      0.71    167476\n",
            "weighted avg       0.81      0.72      0.74    167476\n",
            "\n"
          ]
        }
      ],
      "source": [
        "from sklearn.metrics import classification_report\n",
        "print(classification_report(new_y_test, new_yhat))"
      ]
    },
    {
      "cell_type": "markdown",
      "metadata": {
        "id": "3-X7K_tUJGCj"
      },
      "source": [
        "**ROC Curve** is a classification machine learning metric that is used to characterize the sensitivity/specificity tradeoffs of a binary classifier. \n",
        "\n",
        "In our case, we chose the Random Forests as our binary classifier."
      ]
    },
    {
      "cell_type": "code",
      "execution_count": null,
      "metadata": {
        "id": "gnNVF-ZOJIpv",
        "colab": {
          "base_uri": "https://localhost:8080/",
          "height": 313
        },
        "outputId": "d7c26e2e-1e92-4c34-ed8e-e95bf0def260"
      },
      "outputs": [
        {
          "output_type": "stream",
          "name": "stdout",
          "text": [
            "Random Forest: AUROC = 0.771\n"
          ]
        },
        {
          "output_type": "display_data",
          "data": {
            "text/plain": [
              "<Figure size 432x288 with 1 Axes>"
            ],
            "image/png": "[encoded data removed]"
          },
          "metadata": {
            "needs_background": "light"
          }
        }
      ],
      "source": [
        "rf_probs = new_model.predict_proba(new_X_test) #prediction probabilities\n",
        "rf_probs = rf_probs[:, 1] #only prediction probabilities of positive outcomes are selected\n",
        "\n",
        "from sklearn.metrics import roc_curve, roc_auc_score\n",
        "rf_auc = roc_auc_score(new_y_test, rf_probs)\n",
        "print('Random Forest: AUROC = %.3f' % (rf_auc))\n",
        "\n",
        "import matplotlib.pyplot as plt\n",
        "rf_fpr, rf_tpr, _ = roc_curve(new_y_test, rf_probs)\n",
        "plt.plot(rf_fpr, rf_tpr, marker='.', label='Random Forest (AUROC = %0.3f)' % rf_auc)\n",
        "\n",
        "plt.title('ROC Plot')\n",
        "plt.xlabel('False Positive Rate')\n",
        "plt.ylabel('True Positive Rate')\n",
        "plt.legend() \n",
        "plt.show()"
      ]
    },
    {
      "cell_type": "markdown",
      "source": [
        "**AUC score** is the area under the ROC curve that represents a classification model's ability to predict classes correctly.\n",
        "\n",
        "The higher the AUC score, the more accurate the model is at predicting the correct class. *As a good rule of thumb, an ROC AUC score of above 0.7 denotes good model performance.*\n",
        "\n",
        "Our Random Forests classifier which we used to mimic and test the accuracy of PLStream predictions has an AUC score of 0.771. "
      ],
      "metadata": {
        "id": "zMMpE3_UwD9C"
      }
    },
    {
      "cell_type": "markdown",
      "source": [
        "**Could we improve?**"
      ],
      "metadata": {
        "id": "rcu84PafsiTg"
      }
    },
    {
      "cell_type": "markdown",
      "source": [
        "AUC score can be improved by removing or adding more features that can help the model predict the right classes of tweet entries. In our case, it could be manipulating the list of positive and negative words. \n",
        "\n",
        "```\n",
        "self.ref_pos = ['love', 'best', 'beautiful', 'great', 'cool', 'awesome', 'wonderful', 'brilliant', 'excellent', 'fantastic']\n",
        "\n",
        "self.ref_neg = ['bad', 'worst', 'stupid', 'disappointing', 'terrible', 'rubbish', 'boring', 'awful', 'unwatchable', 'awkward']\n",
        "```\n",
        "\n",
        "The threshold values for classifying data points into classes can also be altered to enhance model performance and thereby increasing the AUC score.\n",
        "\n",
        "```\n",
        "cos_sim_bad - cos_sim_good < -0.5 # predicted positive\n",
        "cos_sim_bad * self.neg_coefficient <= cos_sim_good * self.pos_coefficient # predicted positive\n",
        "\n",
        "#cos_sim_bad - cos_sim_good > 0.5 # predicted negative\n",
        "#cos_sim_bad * self.neg_coefficient >= cos_sim_good * self.pos_coefficient # predicted negative\n",
        "```"
      ],
      "metadata": {
        "id": "kCPZUhwKq3J3"
      }
    }
  ],
  "metadata": {
    "colab": {
      "collapsed_sections": [],
      "provenance": []
    },
    "kernelspec": {
      "display_name": "Python 3",
      "name": "python3"
    },
    "language_info": {
      "name": "python"
    }
  },
  "nbformat": 4,
  "nbformat_minor": 0
}