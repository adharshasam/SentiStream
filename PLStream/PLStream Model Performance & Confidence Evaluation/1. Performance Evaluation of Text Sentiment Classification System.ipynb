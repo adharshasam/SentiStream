{
  "cells": [
    {
      "cell_type": "markdown",
      "metadata": {},
      "source": [
        "**Model Performance Evaluation of our Sentiment Classification System**\n",
        "\n",
        "PLStream is a novel, Apache Flink-based, semi-supervised online sentiment classification system that processes massive data streams incrementally, classifies text data (such as Twitter tweets or online product reviews) with or without labels as positive/negative text sentiments & scales linearly with increasing hardware resources."
      ]
    },
    {
      "cell_type": "markdown",
      "metadata": {
        "id": "Nh5S8JfRxDQQ"
      },
      "source": [
        "The \"train.csv\" dataset contains text data with the actual & predicted text sentiment labels. \n",
        "\n",
        "A ground truth value of 1 denotes an actual positive text sentiment whereas a value of 0 denotes an actual negative text sentiment.\n",
        "A prediction value of 1 denotes a predicted positive text sentiment whereas a value of 0 denotes a predicted negative text sentiment."
      ]
    },
    {
      "cell_type": "code",
      "execution_count": 2,
      "metadata": {
        "colab": {
          "base_uri": "https://localhost:8080/",
          "height": 206
        },
        "id": "hjgXCI0drSjM",
        "outputId": "b1645e56-7736-4496-bf52-0bc0d46a429c"
      },
      "outputs": [],
      "source": [
        "import pandas as pd\n",
        "\n",
        "df = pd.read_csv('train.csv')"
      ]
    },
    {
      "cell_type": "markdown",
      "metadata": {},
      "source": [
        "**Checking for Class Imbalance in Sample Data**"
      ]
    },
    {
      "cell_type": "code",
      "execution_count": 3,
      "metadata": {},
      "outputs": [
        {
          "data": {
            "text/plain": [
              "0    176764\n",
              "1    169236\n",
              "Name: ground truth, dtype: int64"
            ]
          },
          "execution_count": 3,
          "metadata": {},
          "output_type": "execute_result"
        },
        {
          "data": {
            "image/png": "[encoded data removed]",
            "text/plain": [
              "<Figure size 640x480 with 1 Axes>"
            ]
          },
          "metadata": {},
          "output_type": "display_data"
        }
      ],
      "source": [
        "import matplotlib.pyplot as plt\n",
        "\n",
        "data = {\"True Text Sentiments\":[\"Positive Text Sentiments\", \"Negative Text Sentiments\"], \"Count\":[169236, 176764]}\n",
        "barplot_df = pd.DataFrame(data)\n",
        "barplot_df.plot.bar(x = \"True Text Sentiments\", y = \"Count\", rot = 360)\n",
        "\n",
        "df['ground truth'].value_counts()"
      ]
    },
    {
      "cell_type": "markdown",
      "metadata": {},
      "source": [
        "Since there is only a slight class imbalance in this labelled sample dataset, it should not seriously affect the evaluation of model performance.\n",
        "\n",
        "Techniques such as Oversampling (most commonly the SMOTE method) or Undersampling can be performed to fix class imbalance in training data."
      ]
    },
    {
      "cell_type": "markdown",
      "metadata": {},
      "source": [
        "**Performance Evaluation Metrics for Supervised ML**"
      ]
    },
    {
      "cell_type": "markdown",
      "metadata": {},
      "source": [
        "**Confusion Matrix:** a commonly-used model performance evaluation metric for binary classifiers."
      ]
    },
    {
      "cell_type": "code",
      "execution_count": 6,
      "metadata": {
        "colab": {
          "base_uri": "https://localhost:8080/"
        },
        "id": "qPg_yzWz8f27",
        "outputId": "3ab1c9d7-99bb-49d2-be53-1edb53a4bf0e"
      },
      "outputs": [
        {
          "name": "stdout",
          "output_type": "stream",
          "text": [
            "Count of True Positives: 111612\n",
            "Count of True Negatives: 151518\n",
            "Count of False Positives: 25246\n",
            "Count of False Negatives: 57624\n",
            "Total Count of Texts (data points): 346000\n"
          ]
        }
      ],
      "source": [
        "TP_count = len(df[(df['ground truth'] == 1) & (df['prediction'] == 1)])\n",
        "print('Count of True Positives: %.0f' % TP_count)\n",
        "\n",
        "TN_count = len(df[(df['ground truth'] == 0) & (df['prediction'] == 0)])\n",
        "print('Count of True Negatives: %.0f' % TN_count)\n",
        "\n",
        "FP_count = len(df[(df['ground truth'] == 0) & (df['prediction'] == 1)])\n",
        "print('Count of False Positives: %.0f' % FP_count)\n",
        "\n",
        "FN_count = len(df[(df['ground truth'] == 1) & (df['prediction'] == 0)])\n",
        "print('Count of False Negatives: %.0f' % FN_count)\n",
        "\n",
        "Total = TP_count + TN_count + FP_count + FN_count\n",
        "print('Total Count of Texts (data points): %.0f' % Total)"
      ]
    },
    {
      "cell_type": "code",
      "execution_count": 4,
      "metadata": {},
      "outputs": [
        {
          "data": {
            "text/plain": [
              "array([[151518,  25246],\n",
              "       [ 57624, 111612]], dtype=int64)"
            ]
          },
          "execution_count": 4,
          "metadata": {},
          "output_type": "execute_result"
        }
      ],
      "source": [
        "import sklearn\n",
        "from sklearn import metrics\n",
        "from sklearn.metrics import confusion_matrix\n",
        "\n",
        "confusion_matrix(df['ground truth'], df['prediction'])"
      ]
    },
    {
      "cell_type": "markdown",
      "metadata": {
        "id": "-E-ZK1hBd-IM"
      },
      "source": [
        "Confusion Matrix Inferences"
      ]
    },
    {
      "cell_type": "markdown",
      "metadata": {},
      "source": [
        "**Accuracy:** how often is the classifier correct overall? (TP+TN)/total=TP+TN+FP+FN\n",
        "\n",
        "A score of 0.7 to 0.9 indicates good model performance."
      ]
    },
    {
      "cell_type": "code",
      "execution_count": 5,
      "metadata": {},
      "outputs": [
        {
          "name": "stdout",
          "output_type": "stream",
          "text": [
            "Accuracy: 0.76\n"
          ]
        }
      ],
      "source": [
        "print(\"Accuracy:\", round((TP_count+TN_count)/Total, 2))"
      ]
    },
    {
      "cell_type": "markdown",
      "metadata": {},
      "source": [
        "**Misclassification Rate/Error Rate:** how often is the classifier wrong overall? 1 - accuracy"
      ]
    },
    {
      "cell_type": "code",
      "execution_count": 6,
      "metadata": {},
      "outputs": [
        {
          "name": "stdout",
          "output_type": "stream",
          "text": [
            "Error Rate: 0.24\n"
          ]
        }
      ],
      "source": [
        "\n",
        "print(\"Error Rate:\", round((1 - ((TP_count+TN_count)/Total)), 2))"
      ]
    },
    {
      "cell_type": "markdown",
      "metadata": {},
      "source": [
        "**True Positive Rate/Sensitivity/Recall:** how often does the classifier predict \"positive\" correctly when the text sentiment is actually \"positive\"? TP/(TP+FN)"
      ]
    },
    {
      "cell_type": "code",
      "execution_count": 7,
      "metadata": {},
      "outputs": [
        {
          "name": "stdout",
          "output_type": "stream",
          "text": [
            "Sensitivity: 0.66\n"
          ]
        }
      ],
      "source": [
        "print(\"Sensitivity:\", round((TP_count/(TP_count+FN_count)), 2))"
      ]
    },
    {
      "cell_type": "markdown",
      "metadata": {},
      "source": [
        "**True Negative Rate/Specificity:** how often does the classifier predict \"negative\" correctly when the text sentiment is actually \"negative\"? TN/(FP+TN)"
      ]
    },
    {
      "cell_type": "code",
      "execution_count": 8,
      "metadata": {},
      "outputs": [
        {
          "name": "stdout",
          "output_type": "stream",
          "text": [
            "Specificity: 0.86\n"
          ]
        }
      ],
      "source": [
        "print(\"Specificity:\", round((TN_count/(TN_count+FP_count)), 2))"
      ]
    },
    {
      "cell_type": "markdown",
      "metadata": {},
      "source": [
        "In the case of class imbalance, it is better to use **balanced accuracy**."
      ]
    },
    {
      "cell_type": "code",
      "execution_count": 9,
      "metadata": {},
      "outputs": [
        {
          "name": "stdout",
          "output_type": "stream",
          "text": [
            "Balanced Accuracy: 0.76\n"
          ]
        }
      ],
      "source": [
        "print(\"Balanced Accuracy:\", (round((TP_count/(TP_count+FN_count)), 2) + round((TN_count/(TN_count+FP_count)), 2))/2)"
      ]
    },
    {
      "cell_type": "markdown",
      "metadata": {},
      "source": [
        "Since there is *no class imbalance* in our data, *accuracy = balanced accuracy*."
      ]
    },
    {
      "cell_type": "markdown",
      "metadata": {},
      "source": [
        "**False Positive Rate:** how often does the classifier predict \"positive\" wrongly when the text sentiment is actually \"negative\"? FP/(FP+TN)"
      ]
    },
    {
      "cell_type": "code",
      "execution_count": 10,
      "metadata": {},
      "outputs": [
        {
          "name": "stdout",
          "output_type": "stream",
          "text": [
            "False Positive Rate: 0.14\n"
          ]
        }
      ],
      "source": [
        "print(\"False Positive Rate:\", round((FP_count/(FP_count+TN_count)), 2))"
      ]
    },
    {
      "cell_type": "markdown",
      "metadata": {},
      "source": [
        "**False Negative Rate:** how often does the classifier predict \"negative\" wrongly when the text sentiment is actually \"positive\"? FN/(FN+TP)"
      ]
    },
    {
      "cell_type": "code",
      "execution_count": 11,
      "metadata": {},
      "outputs": [
        {
          "name": "stdout",
          "output_type": "stream",
          "text": [
            "False Negative Rate: 0.34\n"
          ]
        }
      ],
      "source": [
        "print(\"False Negative Rate:\", round((FN_count/(FN_count+TP_count)), 2))"
      ]
    },
    {
      "cell_type": "markdown",
      "metadata": {},
      "source": [
        "**Precision:** It is slightly different from TPR as it denotes the percentage of truly positive text sentiments out of all the positive predicted text sentiments."
      ]
    },
    {
      "cell_type": "code",
      "execution_count": 12,
      "metadata": {},
      "outputs": [
        {
          "name": "stdout",
          "output_type": "stream",
          "text": [
            "Precision: 0.82\n"
          ]
        }
      ],
      "source": [
        "print(\"Precision:\", round((TP_count/(TP_count+FP_count)), 2))"
      ]
    },
    {
      "cell_type": "markdown",
      "metadata": {
        "id": "3MSWLh9WGkup"
      },
      "source": [
        "**F1-Score:** an alternative classification model performance evaluation metric which is the harmonic mean of precision & recall. It is often a more reliable measure as it takes into account class imbalance. A score of 0.7 or above implies good classification technique."
      ]
    },
    {
      "cell_type": "code",
      "execution_count": 13,
      "metadata": {},
      "outputs": [
        {
          "name": "stdout",
          "output_type": "stream",
          "text": [
            "F1-Score: 0.73\n"
          ]
        }
      ],
      "source": [
        "Precision = round((TP_count/(TP_count+FP_count)), 2)\n",
        "Recall = round((TP_count/(TP_count+FN_count)), 2)\n",
        "\n",
        "print(\"F1-Score:\", round((2*Precision*Recall)/(Precision+Recall), 2))"
      ]
    },
    {
      "cell_type": "markdown",
      "metadata": {},
      "source": [
        "**Reference:** Performance Metrics: Confusion matrix, Precision, Recall, and F1 Score (Towards Data Science)\n",
        "\n",
        "*Link to the article:* https://towardsdatascience.com/performance-metrics-confusion-matrix-precision-recall-and-f1-score-a8fe076a2262"
      ]
    },
    {
      "cell_type": "markdown",
      "metadata": {
        "id": "3-X7K_tUJGCj"
      },
      "source": [
        "**Receiver Operator Characteristic (ROC) Curve:** an another common model performance evaluation metric for binary classifiers, which is a probability curve that plots the TPR against FPR at different classification thresholds. \n",
        "\n",
        "**Area Under the Curve (AUC):** a value that measures the model's ability to distinguish between positive & negative text sentiments. An AUC Score of 1 implies 100% correct model predictions."
      ]
    },
    {
      "cell_type": "code",
      "execution_count": 14,
      "metadata": {},
      "outputs": [
        {
          "data": {
            "image/png": "[encoded data removed]",
            "text/plain": [
              "<Figure size 640x480 with 1 Axes>"
            ]
          },
          "metadata": {},
          "output_type": "display_data"
        }
      ],
      "source": [
        "import numpy as np\n",
        "from sklearn.metrics import roc_curve\n",
        "from sklearn.metrics import roc_auc_score\n",
        "fpr, tpr, thresholds = metrics.roc_curve(df['ground truth'], df['prediction'])\n",
        "auc = np.round(metrics.roc_auc_score(df['ground truth'], df['prediction']), 2) # model prediction probabilities must be used instead of df['prediction'] here\n",
        "\n",
        "plt.plot(fpr,tpr,label=\"AUC Score: \"+str(auc))\n",
        "plt.title('ROC Curve')\n",
        "plt.ylabel('True Positive Rate')\n",
        "plt.xlabel('False Positive Rate')\n",
        "plt.legend(loc=4)\n",
        "plt.show()"
      ]
    },
    {
      "cell_type": "markdown",
      "metadata": {},
      "source": [
        "**Precision-Recall Curve:** an another common model performance evaluation metric for binary classifiers, which is a probability curve that plots the Precision against Recall at different classification thresholds. It is used instead of the ROC Curve when there is class imbalance in the data.\n",
        "\n",
        "**PR AUC (Average Precision):** area under the Precision-Recall Curve that also measures the ability of the sentiment classification system to distinguish between positive & negative text sentiments. "
      ]
    },
    {
      "cell_type": "code",
      "execution_count": 15,
      "metadata": {},
      "outputs": [
        {
          "data": {
            "image/png": "[encoded data removed]",
            "text/plain": [
              "<Figure size 640x480 with 1 Axes>"
            ]
          },
          "metadata": {},
          "output_type": "display_data"
        }
      ],
      "source": [
        "precision, recall, thresholds = metrics.precision_recall_curve(df['ground truth'], df['prediction'])\n",
        "prauc = np.round(metrics.average_precision_score(df['ground truth'], df['prediction']), 2) # model prediction probabilities must be used instead of df['prediction'] here\n",
        "\n",
        "plt.plot(precision,recall,label=\"PR AUC Score: \"+str(prauc))\n",
        "plt.title('Precision-Recall Curve')\n",
        "plt.ylabel('Precision')\n",
        "plt.xlabel('Recall')\n",
        "plt.legend(loc=3)\n",
        "plt.show()"
      ]
    },
    {
      "cell_type": "markdown",
      "metadata": {},
      "source": [
        "**Reference:** ROC Curves and Precision-Recall Curves for Imbalanced Classification (Machine Learning Mastery)\n",
        "\n",
        "*Link to the article:* https://machinelearningmastery.com/roc-curves-and-precision-recall-curves-for-imbalanced-classification/"
      ]
    },
    {
      "cell_type": "markdown",
      "metadata": {},
      "source": [
        "**Performance Evaluation Metrics for Unsupervised ML**\n",
        "\n",
        "Since our sentiment classification system also predicts the sentiments of unlabelled text data...\n",
        "\n",
        "Clustering is an unsupervised ML technique that can be used to \"classify\" sentences that have the same positive/negative sentiments. When there is high separation between clusters & high cohesion within clusters, the clustering is considered to be good.\n",
        "\n",
        "Class Imbalance cannot be detected as clustering is done on unlabelled data. However, after the clustering technique is complete, we can check if there is a serious skew in the total number of positive & negative text sentiment predictions."
      ]
    },
    {
      "cell_type": "markdown",
      "metadata": {},
      "source": [
        "**Silhouette Coefficient:** the most common way to combine cohesion & separation metrics in a single performance metric. A score of 0.5 & above denotes good clustering technique.\n",
        "\n",
        "**Calisnki-Harabasz Coefficient:** another clustering performance metric which can be used alongside Silhouette Coefficient is based on the internal dispersion of clusters & the dispersion between clusters. \n",
        "\n",
        "Both these performance metrics can be used to evaluate unsupervised model performance and can be performed with the `scikit-learn` Python package."
      ]
    },
    {
      "cell_type": "markdown",
      "metadata": {},
      "source": [
        "**Reference:** Evaluation Metrics for Unsupervised Learning Algorithms by Palacio-Niño & Berzal (2019)\n",
        "\n",
        "*Link to the research paper:* https://arxiv.org/pdf/1905.05667.pdf"
      ]
    }
  ],
  "metadata": {
    "colab": {
      "collapsed_sections": [],
      "provenance": []
    },
    "kernelspec": {
      "display_name": "Python 3",
      "name": "python3"
    },
    "language_info": {
      "codemirror_mode": {
        "name": "ipython",
        "version": 3
      },
      "file_extension": ".py",
      "mimetype": "text/x-python",
      "name": "python",
      "nbconvert_exporter": "python",
      "pygments_lexer": "ipython3",
      "version": "3.7.9"
    }
  },
  "nbformat": 4,
  "nbformat_minor": 0
}
